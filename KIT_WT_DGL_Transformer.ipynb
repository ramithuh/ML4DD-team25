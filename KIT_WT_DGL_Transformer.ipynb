{
 "cells": [
  {
   "cell_type": "code",
   "execution_count": 1,
   "id": "c8fbd07a-d88c-4b7c-bbeb-828b43d876c1",
   "metadata": {},
   "outputs": [
    {
     "name": "stderr",
     "output_type": "stream",
     "text": [
      "/home/jupyter-ramith/.conda/envs/mtl/lib/python3.11/site-packages/tqdm/auto.py:21: TqdmWarning: IProgress not found. Please update jupyter and ipywidgets. See https://ipywidgets.readthedocs.io/en/stable/user_install.html\n",
      "  from .autonotebook import tqdm as notebook_tqdm\n"
     ]
    }
   ],
   "source": [
    "import polaris as po\n",
    "import datamol as dm\n",
    "import numpy as np\n",
    "from rdkit import Chem"
   ]
  },
  {
   "cell_type": "code",
   "execution_count": 2,
   "id": "ac4dda63-050c-4ad7-a054-40a179ac569f",
   "metadata": {},
   "outputs": [],
   "source": [
    "import pandas as pd"
   ]
  },
  {
   "cell_type": "code",
   "execution_count": 3,
   "id": "a643db3a-9f17-431e-b898-bbdc067e85b0",
   "metadata": {},
   "outputs": [],
   "source": [
    "\n",
    "import datamol as dm\n",
    "from molfeat.trans.pretrained import PretrainedDGLTransformer\n",
    "from molfeat.trans import MoleculeTransformer"
   ]
  },
  {
   "cell_type": "code",
   "execution_count": 4,
   "id": "7f334e91-c1b4-49da-a419-6e49a356d23c",
   "metadata": {},
   "outputs": [
    {
     "name": "stderr",
     "output_type": "stream",
     "text": [
      "\u001b[32m2024-06-21 13:14:18.374\u001b[0m | \u001b[1mINFO    \u001b[0m | \u001b[36mpolaris._artifact\u001b[0m:\u001b[36m_validate_version\u001b[0m:\u001b[36m66\u001b[0m - \u001b[1mThe version of Polaris that was used to create the artifact (0.0.0) is different from the currently installed version of Polaris (dev).\u001b[0m\n",
      "\u001b[32m2024-06-21 13:14:18.385\u001b[0m | \u001b[1mINFO    \u001b[0m | \u001b[36mpolaris._artifact\u001b[0m:\u001b[36m_validate_version\u001b[0m:\u001b[36m66\u001b[0m - \u001b[1mThe version of Polaris that was used to create the artifact (0.0.0) is different from the currently installed version of Polaris (dev).\u001b[0m\n"
     ]
    }
   ],
   "source": [
    "benchmark = po.load_benchmark(\"polaris/pkis1-kit-wt-mut-c-1\")\n",
    "train, test = benchmark.get_train_test_split(featurization_fn=dm.to_fp)"
   ]
  },
  {
   "cell_type": "code",
   "execution_count": 5,
   "id": "5d9db7a1-024b-49a9-b2fa-363c21225594",
   "metadata": {},
   "outputs": [],
   "source": [
    "train_mol, test_mol = benchmark.get_train_test_split(featurization_fn=dm.to_mol)"
   ]
  },
  {
   "cell_type": "code",
   "execution_count": null,
   "id": "296d2a79-2322-4e8e-b011-4f0cb6670ab7",
   "metadata": {},
   "outputs": [],
   "source": []
  },
  {
   "cell_type": "code",
   "execution_count": 6,
   "id": "b3e161fe-1d21-4f10-a000-3ca601cac117",
   "metadata": {},
   "outputs": [],
   "source": [
    "smiles = []\n",
    "test_smiles = []\n",
    "\n",
    "for mol in train_mol.X:\n",
    "    smiles.append(Chem.MolToSmiles(mol))\n",
    "    \n",
    "for mol in test_mol.X:\n",
    "    test_smiles.append(Chem.MolToSmiles(mol))\n",
    "    \n",
    "smiles = pd.Series(smiles)\n",
    "test_smiles = pd.Series(test_smiles)"
   ]
  },
  {
   "cell_type": "code",
   "execution_count": 7,
   "id": "4fafc0cf-c968-4965-ad16-865254d55fe5",
   "metadata": {},
   "outputs": [
    {
     "data": {
      "text/plain": [
       "0                     O=C1NC(=O)C(c2ccccc2)=C1Nc1ccccc1\n",
       "1      NS(=O)(=O)c1ccc(Nc2cc(-c3ccc(O)c(F)c3)n[nH]2)cc1\n",
       "2     CC1(C)CC(n2cnc(-c3ccc(F)cc3)c2-c2ccnc(N)n2)CC(...\n",
       "3     Nc1nccc(C#Cc2cncnc2Nc2ccc(OCc3cccc(F)c3)c(Cl)c...\n",
       "4                     COc1ccc(Nc2ncc(-c3ccccc3)o2)cc1OC\n",
       "                            ...                        \n",
       "82    O=C1NC(=O)C(c2cccc(Cl)c2)=C1Nc1ccc(Cl)c(C(=O)O)c1\n",
       "83            O=C(Nc1n[nH]c2nc(-c3ccco3)c(Br)cc12)C1CC1\n",
       "84    CCn1cc(-c2ccnc3[nH]ccc23)c(-c2cccc(NC(=O)Nc3cc...\n",
       "85    CCOc1ccc2c(-c3ccnc(Nc4cc(OC)cc(C(F)(F)F)c4)n3)...\n",
       "86                        c1ccc(Nc2ncc(-c3ccccc3)o2)cc1\n",
       "Length: 87, dtype: object"
      ]
     },
     "execution_count": 7,
     "metadata": {},
     "output_type": "execute_result"
    }
   ],
   "source": [
    "test_smiles"
   ]
  },
  {
   "cell_type": "code",
   "execution_count": 8,
   "id": "783935a5-e46b-40f6-9be7-73ee835d7b2d",
   "metadata": {},
   "outputs": [],
   "source": [
    "# transformer = MoleculeTransformer(featurizer='mordred', dtype=float)\n",
    "# # features = transformer(smiles)\n",
    "\n",
    "\n",
    "transformer = PretrainedDGLTransformer(kind='gin_supervised_infomax', dtype=float)"
   ]
  },
  {
   "cell_type": "code",
   "execution_count": 9,
   "id": "ca575bd1-0150-47ea-a13e-de7ad34ad5e0",
   "metadata": {},
   "outputs": [],
   "source": [
    "\n",
    "X_features = transformer(smiles)\n",
    "Xtest_features = transformer(test_smiles)"
   ]
  },
  {
   "cell_type": "code",
   "execution_count": null,
   "id": "d3e2bb73-3150-40f6-9832-188cde02eba8",
   "metadata": {},
   "outputs": [],
   "source": []
  },
  {
   "cell_type": "code",
   "execution_count": 12,
   "id": "1e054400-1f5d-4dea-aec6-2c140171406b",
   "metadata": {},
   "outputs": [
    {
     "name": "stdout",
     "output_type": "stream",
     "text": [
      "Done featuriziing\n"
     ]
    }
   ],
   "source": [
    "print(\"Done featuriziing\")"
   ]
  },
  {
   "cell_type": "code",
   "execution_count": 13,
   "id": "d8a10a37-79c3-440b-a9db-5b87a726f0a2",
   "metadata": {},
   "outputs": [],
   "source": [
    "X_features_imputed     = X_features\n",
    "Xtest_features_imputed = Xtest_features\n",
    "\n",
    "# from sklearn.impute import SimpleImputer\n",
    "# imputer = SimpleImputer(strategy='constant')  # You can choose 'mean', 'median', 'most_frequent', or 'constant'\n",
    "\n",
    "# X_features_imputed     = imputer.fit_transform(X_features)\n",
    "# Xtest_features_imputed = imputer.fit_transform(Xtest_features)"
   ]
  },
  {
   "cell_type": "code",
   "execution_count": null,
   "id": "4e18b023-8366-40c1-8061-62bc64d6040a",
   "metadata": {},
   "outputs": [],
   "source": []
  },
  {
   "cell_type": "code",
   "execution_count": 14,
   "id": "d8e807fa-0795-4bbb-936b-fd45926eda6e",
   "metadata": {},
   "outputs": [],
   "source": [
    "# import random\n",
    "# random_state = random.seed(939)"
   ]
  },
  {
   "cell_type": "code",
   "execution_count": 14,
   "id": "e4570746-0a9e-44b2-b755-46178dc0788d",
   "metadata": {},
   "outputs": [],
   "source": [
    "from sklearn.ensemble import RandomForestClassifier\n",
    "\n",
    "models = {target: RandomForestClassifier(max_depth=5) for target in benchmark.target_cols}\n",
    "X = train.X\n",
    "\n",
    "for target, model in models.items():\n",
    "  y = train.y[target]\n",
    "  mask = ~np.isnan(y)\n",
    "  model.fit(X_features_imputed[mask], y[mask])\n",
    "\n",
    "y_prob = {target: model.predict_proba(Xtest_features_imputed)[:, 1] for target, model in models.items()}\n",
    "y_pred = {target: model.predict(Xtest_features_imputed) for target, model in models.items()}\n",
    "\n",
    "results = benchmark.evaluate(y_pred=y_pred, y_prob=y_prob)"
   ]
  },
  {
   "cell_type": "code",
   "execution_count": 15,
   "id": "05dde0c4-01fa-4aaf-96c9-d7c52be60045",
   "metadata": {},
   "outputs": [
    {
     "data": {
      "text/html": [
       "<table border=\"1\"><tr><th>name</th><td>None</td></tr><tr><th>description</th><td></td></tr><tr><th>tags</th><td></td></tr><tr><th>user_attributes</th><td></td></tr><tr><th>owner</th><td>None</td></tr><tr><th>polaris_version</th><td>dev</td></tr><tr><th>benchmark_name</th><td>pkis1-kit-wt-mut-c-1</td></tr><tr><th>benchmark_owner</th><td><table border=\"1\"><tr><th>slug</th><td>polaris</td></tr><tr><th>external_id</th><td>org_2gtoaJIVrgRqiIR8Qm5BnpFCbxu</td></tr><tr><th>type</th><td>organization</td></tr></table></td></tr><tr><th>github_url</th><td>None</td></tr><tr><th>paper_url</th><td>None</td></tr><tr><th>contributors</th><td>None</td></tr><tr><th>artifact_id</th><td>None</td></tr><tr><th>benchmark_artifact_id</th><td>polaris/pkis1-kit-wt-mut-c-1</td></tr><tr><th>results</th><td><table border=\"1\"><thead><tr><th>Test set</th><th>Target label</th><th>Metric</th><th>Score</th></tr></thead><tbody><tr><td>test</td><td>CLASS_KIT_(T6701_mutant)</td><td>accuracy</td><td>0.8390804598</td></tr><tr><td>test</td><td>CLASS_KIT_(V560G_mutant)</td><td>accuracy</td><td>0.8620689655</td></tr><tr><td>test</td><td>CLASS_KIT</td><td>accuracy</td><td>0.6206896552</td></tr><tr><td>test</td><td>CLASS_KIT_(T6701_mutant)</td><td>f1</td><td>0.0</td></tr><tr><td>test</td><td>CLASS_KIT_(V560G_mutant)</td><td>f1</td><td>0.0</td></tr><tr><td>test</td><td>CLASS_KIT</td><td>f1</td><td>0.0</td></tr><tr><td>test</td><td>CLASS_KIT_(T6701_mutant)</td><td>roc_auc</td><td>0.8400195695</td></tr><tr><td>test</td><td>CLASS_KIT_(V560G_mutant)</td><td>roc_auc</td><td>0.8933333333</td></tr><tr><td>test</td><td>CLASS_KIT</td><td>roc_auc</td><td>0.9191919192</td></tr><tr><td>test</td><td>CLASS_KIT_(T6701_mutant)</td><td>pr_auc</td><td>0.422761719</td></tr><tr><td>test</td><td>CLASS_KIT_(V560G_mutant)</td><td>pr_auc</td><td>0.4486118092</td></tr><tr><td>test</td><td>CLASS_KIT</td><td>pr_auc</td><td>0.8633902322</td></tr><tr><td>test</td><td>CLASS_KIT_(T6701_mutant)</td><td>mcc</td><td>0.0</td></tr><tr><td>test</td><td>CLASS_KIT_(V560G_mutant)</td><td>mcc</td><td>0.0</td></tr><tr><td>test</td><td>CLASS_KIT</td><td>mcc</td><td>0.0</td></tr><tr><td>test</td><td>CLASS_KIT_(T6701_mutant)</td><td>cohen_kappa</td><td>0.0</td></tr><tr><td>test</td><td>CLASS_KIT_(V560G_mutant)</td><td>cohen_kappa</td><td>0.0</td></tr><tr><td>test</td><td>CLASS_KIT</td><td>cohen_kappa</td><td>0.0</td></tr></tbody></table></td></tr></table>"
      ],
      "text/plain": [
       "{\n",
       "  \"name\": null,\n",
       "  \"description\": \"\",\n",
       "  \"tags\": [],\n",
       "  \"user_attributes\": {},\n",
       "  \"owner\": null,\n",
       "  \"polaris_version\": \"dev\",\n",
       "  \"benchmark_name\": \"pkis1-kit-wt-mut-c-1\",\n",
       "  \"benchmark_owner\": {\n",
       "    \"slug\": \"polaris\",\n",
       "    \"external_id\": \"org_2gtoaJIVrgRqiIR8Qm5BnpFCbxu\",\n",
       "    \"type\": \"organization\"\n",
       "  },\n",
       "  \"github_url\": null,\n",
       "  \"paper_url\": null,\n",
       "  \"contributors\": null,\n",
       "  \"artifact_id\": null,\n",
       "  \"benchmark_artifact_id\": \"polaris/pkis1-kit-wt-mut-c-1\",\n",
       "  \"results\": [\n",
       "    {\n",
       "      \"Test set\": \"test\",\n",
       "      \"Target label\": \"CLASS_KIT_(T6701_mutant)\",\n",
       "      \"Metric\": \"accuracy\",\n",
       "      \"Score\": 0.8390804598\n",
       "    },\n",
       "    {\n",
       "      \"Test set\": \"test\",\n",
       "      \"Target label\": \"CLASS_KIT_(V560G_mutant)\",\n",
       "      \"Metric\": \"accuracy\",\n",
       "      \"Score\": 0.8620689655\n",
       "    },\n",
       "    {\n",
       "      \"Test set\": \"test\",\n",
       "      \"Target label\": \"CLASS_KIT\",\n",
       "      \"Metric\": \"accuracy\",\n",
       "      \"Score\": 0.6206896552\n",
       "    },\n",
       "    {\n",
       "      \"Test set\": \"test\",\n",
       "      \"Target label\": \"CLASS_KIT_(T6701_mutant)\",\n",
       "      \"Metric\": \"f1\",\n",
       "      \"Score\": 0.0\n",
       "    },\n",
       "    {\n",
       "      \"Test set\": \"test\",\n",
       "      \"Target label\": \"CLASS_KIT_(V560G_mutant)\",\n",
       "      \"Metric\": \"f1\",\n",
       "      \"Score\": 0.0\n",
       "    },\n",
       "    {\n",
       "      \"Test set\": \"test\",\n",
       "      \"Target label\": \"CLASS_KIT\",\n",
       "      \"Metric\": \"f1\",\n",
       "      \"Score\": 0.0\n",
       "    },\n",
       "    {\n",
       "      \"Test set\": \"test\",\n",
       "      \"Target label\": \"CLASS_KIT_(T6701_mutant)\",\n",
       "      \"Metric\": \"roc_auc\",\n",
       "      \"Score\": 0.8400195695\n",
       "    },\n",
       "    {\n",
       "      \"Test set\": \"test\",\n",
       "      \"Target label\": \"CLASS_KIT_(V560G_mutant)\",\n",
       "      \"Metric\": \"roc_auc\",\n",
       "      \"Score\": 0.8933333333\n",
       "    },\n",
       "    {\n",
       "      \"Test set\": \"test\",\n",
       "      \"Target label\": \"CLASS_KIT\",\n",
       "      \"Metric\": \"roc_auc\",\n",
       "      \"Score\": 0.9191919192\n",
       "    },\n",
       "    {\n",
       "      \"Test set\": \"test\",\n",
       "      \"Target label\": \"CLASS_KIT_(T6701_mutant)\",\n",
       "      \"Metric\": \"pr_auc\",\n",
       "      \"Score\": 0.422761719\n",
       "    },\n",
       "    {\n",
       "      \"Test set\": \"test\",\n",
       "      \"Target label\": \"CLASS_KIT_(V560G_mutant)\",\n",
       "      \"Metric\": \"pr_auc\",\n",
       "      \"Score\": 0.4486118092\n",
       "    },\n",
       "    {\n",
       "      \"Test set\": \"test\",\n",
       "      \"Target label\": \"CLASS_KIT\",\n",
       "      \"Metric\": \"pr_auc\",\n",
       "      \"Score\": 0.8633902322\n",
       "    },\n",
       "    {\n",
       "      \"Test set\": \"test\",\n",
       "      \"Target label\": \"CLASS_KIT_(T6701_mutant)\",\n",
       "      \"Metric\": \"mcc\",\n",
       "      \"Score\": 0.0\n",
       "    },\n",
       "    {\n",
       "      \"Test set\": \"test\",\n",
       "      \"Target label\": \"CLASS_KIT_(V560G_mutant)\",\n",
       "      \"Metric\": \"mcc\",\n",
       "      \"Score\": 0.0\n",
       "    },\n",
       "    {\n",
       "      \"Test set\": \"test\",\n",
       "      \"Target label\": \"CLASS_KIT\",\n",
       "      \"Metric\": \"mcc\",\n",
       "      \"Score\": 0.0\n",
       "    },\n",
       "    {\n",
       "      \"Test set\": \"test\",\n",
       "      \"Target label\": \"CLASS_KIT_(T6701_mutant)\",\n",
       "      \"Metric\": \"cohen_kappa\",\n",
       "      \"Score\": 0.0\n",
       "    },\n",
       "    {\n",
       "      \"Test set\": \"test\",\n",
       "      \"Target label\": \"CLASS_KIT_(V560G_mutant)\",\n",
       "      \"Metric\": \"cohen_kappa\",\n",
       "      \"Score\": 0.0\n",
       "    },\n",
       "    {\n",
       "      \"Test set\": \"test\",\n",
       "      \"Target label\": \"CLASS_KIT\",\n",
       "      \"Metric\": \"cohen_kappa\",\n",
       "      \"Score\": 0.0\n",
       "    }\n",
       "  ]\n",
       "}"
      ]
     },
     "execution_count": 15,
     "metadata": {},
     "output_type": "execute_result"
    }
   ],
   "source": [
    "results"
   ]
  },
  {
   "cell_type": "code",
   "execution_count": 19,
   "id": "ab5d1352-d7f6-4379-94d6-ef48e758854f",
   "metadata": {},
   "outputs": [
    {
     "data": {
      "text/plain": [
       "({'CLASS_KIT_(T6701_mutant)': array([0., 0., 0., 0., 0., 0., 0., 0., 0., 0., 0., 0., 0., 0., 0., 0., 0.,\n",
       "         0., 0., 0., 0., 0., 0., 0., 0., 0., 0., 0., 0., 0., 0., 0., 0., 0.,\n",
       "         0., 0., 0., 0., 0., 0., 0., 0., 0., 0., 0., 0., 0., 0., 0., 0., 0.,\n",
       "         0., 0., 0., 0., 0., 0., 0., 0., 0., 0., 0., 0., 0., 0., 0., 0., 0.,\n",
       "         0., 0., 0., 0., 0., 0., 0., 0., 0., 0., 0., 0., 0., 0., 0., 0., 0.,\n",
       "         0., 0.]),\n",
       "  'CLASS_KIT_(V560G_mutant)': array([0., 0., 0., 0., 0., 0., 0., 0., 0., 0., 0., 0., 0., 0., 0., 0., 0.,\n",
       "         0., 0., 0., 0., 0., 0., 0., 0., 0., 0., 0., 0., 0., 0., 0., 0., 0.,\n",
       "         0., 0., 0., 0., 0., 0., 0., 0., 0., 0., 0., 0., 0., 0., 0., 0., 0.,\n",
       "         0., 0., 0., 0., 0., 0., 0., 0., 0., 0., 0., 0., 0., 0., 0., 0., 0.,\n",
       "         0., 0., 0., 0., 0., 0., 0., 0., 0., 0., 0., 0., 0., 0., 0., 0., 0.,\n",
       "         0., 0.]),\n",
       "  'CLASS_KIT': array([0., 0., 0., 0., 0., 0., 0., 0., 0., 0., 0., 0., 0., 0., 0., 0., 0.,\n",
       "         0., 0., 0., 0., 0., 0., 0., 0., 0., 0., 0., 0., 0., 0., 0., 0., 0.,\n",
       "         0., 0., 0., 0., 0., 0., 0., 0., 0., 0., 0., 0., 0., 0., 0., 0., 0.,\n",
       "         0., 0., 0., 0., 0., 0., 0., 0., 0., 0., 0., 0., 0., 0., 0., 0., 0.,\n",
       "         0., 0., 0., 0., 0., 0., 0., 0., 0., 0., 0., 0., 0., 0., 0., 0., 0.,\n",
       "         0., 0.])},\n",
       " {'CLASS_KIT_(T6701_mutant)': array([1.55683623e-01, 5.11658654e-03, 5.92777015e-04, 1.01165865e-02,\n",
       "         2.45807692e-01, 9.00384615e-02, 2.01165865e-02, 2.75807692e-01,\n",
       "         6.00384615e-02, 8.50384615e-02, 6.00000000e-02, 4.07617478e-02,\n",
       "         2.07617478e-02, 1.16586538e-04, 7.25384615e-02, 2.21602564e-01,\n",
       "         1.01165865e-02, 1.01165865e-02, 1.09499199e-02, 9.11892361e-02,\n",
       "         3.06836228e-02, 3.01165865e-02, 1.07617478e-02, 2.20000000e-01,\n",
       "         5.46813187e-02, 1.16586538e-04, 1.32616587e-01, 6.83622829e-04,\n",
       "         6.95117478e-02, 1.07617478e-02, 1.08858173e-02, 7.61747829e-04,\n",
       "         4.57692308e-02, 1.07538462e-01, 2.17538462e-01, 2.01165865e-02,\n",
       "         1.76719151e-01, 2.32057692e-01, 2.17142857e-01, 2.01933623e-01,\n",
       "         5.00781250e-02, 1.40038462e-01, 3.01165865e-02, 2.37538462e-01,\n",
       "         3.50000000e-02, 9.51165865e-02, 2.07612008e-01, 1.16586538e-04,\n",
       "         1.07617478e-02, 1.05927770e-02, 7.01165865e-02, 1.10885817e-01,\n",
       "         4.34499199e-02, 1.05927770e-02, 1.01165865e-02, 2.01165865e-02,\n",
       "         8.00781250e-02, 3.07617478e-02, 1.16586538e-04, 2.15309786e-02,\n",
       "         3.09499199e-02, 6.55927770e-02, 1.01165865e-02, 5.07617478e-02,\n",
       "         3.30038462e-01, 1.00078125e-01, 5.01165865e-02, 2.67051282e-02,\n",
       "         8.85817308e-04, 2.42538462e-01, 2.07617478e-02, 5.01165865e-02,\n",
       "         4.26165865e-02, 2.07500000e-01, 2.03269231e-01, 7.05146520e-02,\n",
       "         1.50384615e-02, 1.51288462e-01, 1.21530979e-01, 1.01165865e-02,\n",
       "         1.45116587e-01, 6.50384615e-02, 5.64261103e-02, 4.08717949e-02,\n",
       "         7.09499199e-02, 1.01165865e-02, 3.30038462e-01]),\n",
       "  'CLASS_KIT_(V560G_mutant)': array([0.04205631, 0.03103876, 0.01770543, 0.00150686, 0.12643839,\n",
       "         0.05      , 0.03207829, 0.1956036 , 0.03293876, 0.12337209,\n",
       "         0.05047829, 0.05308686, 0.01106106, 0.01007829, 0.02047829,\n",
       "         0.21893694, 0.02047829, 0.04037209, 0.02027436, 0.05104248,\n",
       "         0.02062153, 0.01074856, 0.00201544, 0.15247431, 0.02103876,\n",
       "         0.00053283, 0.05047829, 0.02599918, 0.03066106, 0.01066106,\n",
       "         0.09356602, 0.00058686, 0.05420294, 0.01907829, 0.11227436,\n",
       "         0.03047829, 0.09404236, 0.17393368, 0.13080764, 0.20417983,\n",
       "         0.02007829, 0.14106127, 0.02277436, 0.03907829, 0.06520556,\n",
       "         0.04130903, 0.08981125, 0.0106077 , 0.04534856, 0.04049407,\n",
       "         0.04457829, 0.10294524, 0.05639096, 0.0502356 , 0.01070915,\n",
       "         0.03051307, 0.02051307, 0.05085713, 0.1351946 , 0.0556077 ,\n",
       "         0.01007829, 0.07310013, 0.04007829, 0.0514681 , 0.2060036 ,\n",
       "         0.08710543, 0.06051307, 0.05337354, 0.02051307, 0.24102251,\n",
       "         0.01554463, 0.06190196, 0.03072891, 0.10106204, 0.17247431,\n",
       "         0.08263621, 0.05027027, 0.21075224, 0.1039161 , 0.02074856,\n",
       "         0.07047829, 0.02174381, 0.04630903, 0.03027436, 0.05194164,\n",
       "         0.05051307, 0.17579968]),\n",
       "  'CLASS_KIT': array([0.15784384, 0.18254574, 0.03200975, 0.04010422, 0.37332474,\n",
       "         0.18928807, 0.08826215, 0.2452768 , 0.23201233, 0.10875266,\n",
       "         0.15387176, 0.07886245, 0.17618762, 0.0199946 , 0.14610873,\n",
       "         0.20208758, 0.11414575, 0.06965787, 0.07200109, 0.13524475,\n",
       "         0.1007519 , 0.16629409, 0.08072996, 0.14401478, 0.13553792,\n",
       "         0.017909  , 0.13345179, 0.14899242, 0.21131399, 0.09332141,\n",
       "         0.19409711, 0.078152  , 0.27507654, 0.30319525, 0.39912735,\n",
       "         0.13163549, 0.3096699 , 0.41480416, 0.24995049, 0.27069014,\n",
       "         0.06036362, 0.14942191, 0.11996161, 0.37974864, 0.09588147,\n",
       "         0.13510505, 0.37364482, 0.03818934, 0.23226645, 0.12844643,\n",
       "         0.21719973, 0.3322838 , 0.13513736, 0.08918752, 0.01566661,\n",
       "         0.12141671, 0.08898823, 0.24640624, 0.18628575, 0.08082655,\n",
       "         0.12498358, 0.31706637, 0.18548083, 0.08783845, 0.39455974,\n",
       "         0.19922207, 0.13138974, 0.15512748, 0.07227367, 0.32137679,\n",
       "         0.25402037, 0.11094549, 0.36241771, 0.24848507, 0.20390567,\n",
       "         0.31476004, 0.17036272, 0.31747644, 0.32272912, 0.18466438,\n",
       "         0.15257605, 0.11386155, 0.14794954, 0.07354449, 0.19471964,\n",
       "         0.07087783, 0.38735166])})"
      ]
     },
     "execution_count": 19,
     "metadata": {},
     "output_type": "execute_result"
    }
   ],
   "source": [
    "y_pred, y_prob"
   ]
  },
  {
   "cell_type": "code",
   "execution_count": 17,
   "id": "cdd23de5-84fe-4808-b4b0-8cb8996b3920",
   "metadata": {},
   "outputs": [],
   "source": [
    "import pickle"
   ]
  },
  {
   "cell_type": "code",
   "execution_count": 18,
   "id": "d732968a-cbe8-4b80-9637-befc5baab61b",
   "metadata": {},
   "outputs": [],
   "source": [
    "with open(f\"T25_KIT_WT_pred.pickle\", 'wb') as handle:\n",
    "    pickle.dump(y_pred, handle)\n",
    "    \n",
    "with open(f\"T25_KIT_WT_prob.pickle\", 'wb') as handle:\n",
    "    pickle.dump(y_prob, handle)"
   ]
  },
  {
   "cell_type": "code",
   "execution_count": null,
   "id": "e4c5c6cd-d7f2-490b-bafb-e3217a664535",
   "metadata": {},
   "outputs": [],
   "source": []
  },
  {
   "cell_type": "code",
   "execution_count": null,
   "id": "dfcabe07-34ce-44e0-a950-1c7b81e74f29",
   "metadata": {},
   "outputs": [],
   "source": []
  },
  {
   "cell_type": "code",
   "execution_count": null,
   "id": "7205c1d2-9a42-4892-90cf-067898d45149",
   "metadata": {},
   "outputs": [],
   "source": []
  },
  {
   "cell_type": "code",
   "execution_count": null,
   "id": "2ecd7761-c692-4162-bbd2-42ba247ff44c",
   "metadata": {},
   "outputs": [],
   "source": []
  },
  {
   "cell_type": "code",
   "execution_count": null,
   "id": "e8d34402-fcb8-4169-8afb-ae5773196a06",
   "metadata": {},
   "outputs": [],
   "source": []
  }
 ],
 "metadata": {
  "kernelspec": {
   "display_name": "mtl",
   "language": "python",
   "name": "mtl"
  },
  "language_info": {
   "codemirror_mode": {
    "name": "ipython",
    "version": 3
   },
   "file_extension": ".py",
   "mimetype": "text/x-python",
   "name": "python",
   "nbconvert_exporter": "python",
   "pygments_lexer": "ipython3",
   "version": "3.11.9"
  },
  "widgets": {
   "application/vnd.jupyter.widget-state+json": {
    "state": {},
    "version_major": 2,
    "version_minor": 0
   }
  }
 },
 "nbformat": 4,
 "nbformat_minor": 5
}
