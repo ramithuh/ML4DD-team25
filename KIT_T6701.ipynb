{
 "cells": [
  {
   "cell_type": "code",
   "execution_count": 1,
   "id": "c8fbd07a-d88c-4b7c-bbeb-828b43d876c1",
   "metadata": {},
   "outputs": [
    {
     "name": "stderr",
     "output_type": "stream",
     "text": [
      "/home/jupyter-ramith/.conda/envs/mtl/lib/python3.11/site-packages/tqdm/auto.py:21: TqdmWarning: IProgress not found. Please update jupyter and ipywidgets. See https://ipywidgets.readthedocs.io/en/stable/user_install.html\n",
      "  from .autonotebook import tqdm as notebook_tqdm\n"
     ]
    }
   ],
   "source": [
    "import polaris as po\n",
    "import numpy as np\n",
    "from rdkit import Chem\n",
    "import pandas as pd\n",
    "import random\n",
    "import pickle\n",
    "import datamol as dm\n",
    "from molfeat.trans.pretrained import PretrainedDGLTransformer\n",
    "from molfeat.trans import MoleculeTransformer"
   ]
  },
  {
   "cell_type": "code",
   "execution_count": null,
   "id": "ac4dda63-050c-4ad7-a054-40a179ac569f",
   "metadata": {},
   "outputs": [],
   "source": []
  },
  {
   "cell_type": "markdown",
   "id": "864d7224-4031-4f5b-8b12-0913c97bc0d9",
   "metadata": {},
   "source": [
    "### Load data and benchmark"
   ]
  },
  {
   "cell_type": "code",
   "execution_count": 2,
   "id": "7f334e91-c1b4-49da-a419-6e49a356d23c",
   "metadata": {},
   "outputs": [
    {
     "name": "stderr",
     "output_type": "stream",
     "text": [
      "\u001b[32m2024-06-21 13:32:15.944\u001b[0m | \u001b[1mINFO    \u001b[0m | \u001b[36mpolaris._artifact\u001b[0m:\u001b[36m_validate_version\u001b[0m:\u001b[36m66\u001b[0m - \u001b[1mThe version of Polaris that was used to create the artifact (0.0.0) is different from the currently installed version of Polaris (dev).\u001b[0m\n",
      "\u001b[32m2024-06-21 13:32:15.950\u001b[0m | \u001b[1mINFO    \u001b[0m | \u001b[36mpolaris._artifact\u001b[0m:\u001b[36m_validate_version\u001b[0m:\u001b[36m66\u001b[0m - \u001b[1mThe version of Polaris that was used to create the artifact (0.0.0) is different from the currently installed version of Polaris (dev).\u001b[0m\n"
     ]
    }
   ],
   "source": [
    "benchmark = po.load_benchmark(\"polaris/pkis1-kit-wt-mut-c-1\")\n",
    "train, test = benchmark.get_train_test_split(featurization_fn=dm.to_fp)"
   ]
  },
  {
   "cell_type": "code",
   "execution_count": 3,
   "id": "5d9db7a1-024b-49a9-b2fa-363c21225594",
   "metadata": {},
   "outputs": [],
   "source": [
    "### Get molecule info, instead of Fingerprint\n",
    "\n",
    "#train_mol, test_mol = benchmark.get_train_test_split(featurization_fn=dm.to_mol)"
   ]
  },
  {
   "cell_type": "markdown",
   "id": "c17c06dc-d69d-42fc-a910-de1c22512c5d",
   "metadata": {},
   "source": [
    "### Convert to smiles strings"
   ]
  },
  {
   "cell_type": "code",
   "execution_count": 4,
   "id": "b3e161fe-1d21-4f10-a000-3ca601cac117",
   "metadata": {},
   "outputs": [],
   "source": [
    "# smiles = []\n",
    "# test_smiles = []\n",
    "\n",
    "# for mol in train_mol.X:\n",
    "#     smiles.append(Chem.MolToSmiles(mol))\n",
    "    \n",
    "# for mol in test_mol.X:\n",
    "#     test_smiles.append(Chem.MolToSmiles(mol))\n",
    "    \n",
    "# smiles      = pd.Series(smiles)\n",
    "# test_smiles = pd.Series(test_smiles)"
   ]
  },
  {
   "cell_type": "code",
   "execution_count": 5,
   "id": "4fafc0cf-c968-4965-ad16-865254d55fe5",
   "metadata": {},
   "outputs": [],
   "source": [
    "# test_smiles"
   ]
  },
  {
   "cell_type": "markdown",
   "id": "05c2d73b-7116-4966-9cc6-8866a9e1e511",
   "metadata": {},
   "source": [
    "### Featurize"
   ]
  },
  {
   "cell_type": "code",
   "execution_count": 6,
   "id": "783935a5-e46b-40f6-9be7-73ee835d7b2d",
   "metadata": {},
   "outputs": [],
   "source": [
    "# transformer = MoleculeTransformer(featurizer='mordred', dtype=float)\n",
    "\n",
    "# X_features     = transformer(smiles)\n",
    "# Xtest_features = transformer(test_smiles)"
   ]
  },
  {
   "cell_type": "code",
   "execution_count": 7,
   "id": "ca575bd1-0150-47ea-a13e-de7ad34ad5e0",
   "metadata": {},
   "outputs": [],
   "source": [
    "## There might be nan values, RF will handle these"
   ]
  },
  {
   "cell_type": "code",
   "execution_count": null,
   "id": "d3e2bb73-3150-40f6-9832-188cde02eba8",
   "metadata": {},
   "outputs": [],
   "source": []
  },
  {
   "cell_type": "code",
   "execution_count": 8,
   "id": "1e054400-1f5d-4dea-aec6-2c140171406b",
   "metadata": {},
   "outputs": [],
   "source": [
    "X_features_imputed     = train.X #X_features\n",
    "Xtest_features_imputed = test.X #Xtest_features"
   ]
  },
  {
   "cell_type": "code",
   "execution_count": null,
   "id": "d8a10a37-79c3-440b-a9db-5b87a726f0a2",
   "metadata": {},
   "outputs": [],
   "source": []
  },
  {
   "cell_type": "code",
   "execution_count": 9,
   "id": "e4570746-0a9e-44b2-b755-46178dc0788d",
   "metadata": {},
   "outputs": [],
   "source": [
    "from sklearn.ensemble import RandomForestClassifier, HistGradientBoostingClassifier\n",
    "\n",
    "models = {target: HistGradientBoostingClassifier() for target in benchmark.target_cols}\n",
    "X = train.X\n",
    "\n",
    "for target, model in models.items():\n",
    "  y = train.y[target]\n",
    "  mask = ~np.isnan(y)\n",
    "  model.fit(X_features_imputed[mask], y[mask])\n",
    "\n",
    "y_prob = {target: model.predict_proba(Xtest_features_imputed)[:, 1] for target, model in models.items()}\n",
    "y_pred = {target: model.predict(Xtest_features_imputed) for target, model in models.items()}\n",
    "\n",
    "results = benchmark.evaluate(y_pred=y_pred, y_prob=y_prob)"
   ]
  },
  {
   "cell_type": "code",
   "execution_count": 10,
   "id": "05dde0c4-01fa-4aaf-96c9-d7c52be60045",
   "metadata": {},
   "outputs": [
    {
     "data": {
      "text/html": [
       "<table border=\"1\"><tr><th>name</th><td>None</td></tr><tr><th>description</th><td></td></tr><tr><th>tags</th><td></td></tr><tr><th>user_attributes</th><td></td></tr><tr><th>owner</th><td>None</td></tr><tr><th>polaris_version</th><td>dev</td></tr><tr><th>benchmark_name</th><td>pkis1-kit-wt-mut-c-1</td></tr><tr><th>benchmark_owner</th><td><table border=\"1\"><tr><th>slug</th><td>polaris</td></tr><tr><th>external_id</th><td>org_2gtoaJIVrgRqiIR8Qm5BnpFCbxu</td></tr><tr><th>type</th><td>organization</td></tr></table></td></tr><tr><th>github_url</th><td>None</td></tr><tr><th>paper_url</th><td>None</td></tr><tr><th>contributors</th><td>None</td></tr><tr><th>artifact_id</th><td>None</td></tr><tr><th>benchmark_artifact_id</th><td>polaris/pkis1-kit-wt-mut-c-1</td></tr><tr><th>results</th><td><table border=\"1\"><thead><tr><th>Test set</th><th>Target label</th><th>Metric</th><th>Score</th></tr></thead><tbody><tr><td>test</td><td>CLASS_KIT_(T6701_mutant)</td><td>accuracy</td><td>0.9310344828</td></tr><tr><td>test</td><td>CLASS_KIT_(V560G_mutant)</td><td>accuracy</td><td>0.8620689655</td></tr><tr><td>test</td><td>CLASS_KIT</td><td>accuracy</td><td>0.6896551724</td></tr><tr><td>test</td><td>CLASS_KIT_(T6701_mutant)</td><td>f1</td><td>0.7272727273</td></tr><tr><td>test</td><td>CLASS_KIT_(V560G_mutant)</td><td>f1</td><td>0.1428571429</td></tr><tr><td>test</td><td>CLASS_KIT</td><td>f1</td><td>0.4905660377</td></tr><tr><td>test</td><td>CLASS_KIT_(T6701_mutant)</td><td>roc_auc</td><td>0.7818003914</td></tr><tr><td>test</td><td>CLASS_KIT_(V560G_mutant)</td><td>roc_auc</td><td>0.6933333333</td></tr><tr><td>test</td><td>CLASS_KIT</td><td>roc_auc</td><td>0.8187429854</td></tr><tr><td>test</td><td>CLASS_KIT_(T6701_mutant)</td><td>pr_auc</td><td>0.7160258127</td></tr><tr><td>test</td><td>CLASS_KIT_(V560G_mutant)</td><td>pr_auc</td><td>0.3414927354</td></tr><tr><td>test</td><td>CLASS_KIT</td><td>pr_auc</td><td>0.7530514767</td></tr><tr><td>test</td><td>CLASS_KIT_(T6701_mutant)</td><td>mcc</td><td>0.7266559936</td></tr><tr><td>test</td><td>CLASS_KIT_(V560G_mutant)</td><td>mcc</td><td>0.1610626477</td></tr><tr><td>test</td><td>CLASS_KIT</td><td>mcc</td><td>0.3047997862</td></tr><tr><td>test</td><td>CLASS_KIT_(T6701_mutant)</td><td>cohen_kappa</td><td>0.6911242604</td></tr><tr><td>test</td><td>CLASS_KIT_(V560G_mutant)</td><td>cohen_kappa</td><td>0.1076923077</td></tr><tr><td>test</td><td>CLASS_KIT</td><td>cohen_kappa</td><td>0.2862351869</td></tr></tbody></table></td></tr></table>"
      ],
      "text/plain": [
       "{\n",
       "  \"name\": null,\n",
       "  \"description\": \"\",\n",
       "  \"tags\": [],\n",
       "  \"user_attributes\": {},\n",
       "  \"owner\": null,\n",
       "  \"polaris_version\": \"dev\",\n",
       "  \"benchmark_name\": \"pkis1-kit-wt-mut-c-1\",\n",
       "  \"benchmark_owner\": {\n",
       "    \"slug\": \"polaris\",\n",
       "    \"external_id\": \"org_2gtoaJIVrgRqiIR8Qm5BnpFCbxu\",\n",
       "    \"type\": \"organization\"\n",
       "  },\n",
       "  \"github_url\": null,\n",
       "  \"paper_url\": null,\n",
       "  \"contributors\": null,\n",
       "  \"artifact_id\": null,\n",
       "  \"benchmark_artifact_id\": \"polaris/pkis1-kit-wt-mut-c-1\",\n",
       "  \"results\": [\n",
       "    {\n",
       "      \"Test set\": \"test\",\n",
       "      \"Target label\": \"CLASS_KIT_(T6701_mutant)\",\n",
       "      \"Metric\": \"accuracy\",\n",
       "      \"Score\": 0.9310344828\n",
       "    },\n",
       "    {\n",
       "      \"Test set\": \"test\",\n",
       "      \"Target label\": \"CLASS_KIT_(V560G_mutant)\",\n",
       "      \"Metric\": \"accuracy\",\n",
       "      \"Score\": 0.8620689655\n",
       "    },\n",
       "    {\n",
       "      \"Test set\": \"test\",\n",
       "      \"Target label\": \"CLASS_KIT\",\n",
       "      \"Metric\": \"accuracy\",\n",
       "      \"Score\": 0.6896551724\n",
       "    },\n",
       "    {\n",
       "      \"Test set\": \"test\",\n",
       "      \"Target label\": \"CLASS_KIT_(T6701_mutant)\",\n",
       "      \"Metric\": \"f1\",\n",
       "      \"Score\": 0.7272727273\n",
       "    },\n",
       "    {\n",
       "      \"Test set\": \"test\",\n",
       "      \"Target label\": \"CLASS_KIT_(V560G_mutant)\",\n",
       "      \"Metric\": \"f1\",\n",
       "      \"Score\": 0.1428571429\n",
       "    },\n",
       "    {\n",
       "      \"Test set\": \"test\",\n",
       "      \"Target label\": \"CLASS_KIT\",\n",
       "      \"Metric\": \"f1\",\n",
       "      \"Score\": 0.4905660377\n",
       "    },\n",
       "    {\n",
       "      \"Test set\": \"test\",\n",
       "      \"Target label\": \"CLASS_KIT_(T6701_mutant)\",\n",
       "      \"Metric\": \"roc_auc\",\n",
       "      \"Score\": 0.7818003914\n",
       "    },\n",
       "    {\n",
       "      \"Test set\": \"test\",\n",
       "      \"Target label\": \"CLASS_KIT_(V560G_mutant)\",\n",
       "      \"Metric\": \"roc_auc\",\n",
       "      \"Score\": 0.6933333333\n",
       "    },\n",
       "    {\n",
       "      \"Test set\": \"test\",\n",
       "      \"Target label\": \"CLASS_KIT\",\n",
       "      \"Metric\": \"roc_auc\",\n",
       "      \"Score\": 0.8187429854\n",
       "    },\n",
       "    {\n",
       "      \"Test set\": \"test\",\n",
       "      \"Target label\": \"CLASS_KIT_(T6701_mutant)\",\n",
       "      \"Metric\": \"pr_auc\",\n",
       "      \"Score\": 0.7160258127\n",
       "    },\n",
       "    {\n",
       "      \"Test set\": \"test\",\n",
       "      \"Target label\": \"CLASS_KIT_(V560G_mutant)\",\n",
       "      \"Metric\": \"pr_auc\",\n",
       "      \"Score\": 0.3414927354\n",
       "    },\n",
       "    {\n",
       "      \"Test set\": \"test\",\n",
       "      \"Target label\": \"CLASS_KIT\",\n",
       "      \"Metric\": \"pr_auc\",\n",
       "      \"Score\": 0.7530514767\n",
       "    },\n",
       "    {\n",
       "      \"Test set\": \"test\",\n",
       "      \"Target label\": \"CLASS_KIT_(T6701_mutant)\",\n",
       "      \"Metric\": \"mcc\",\n",
       "      \"Score\": 0.7266559936\n",
       "    },\n",
       "    {\n",
       "      \"Test set\": \"test\",\n",
       "      \"Target label\": \"CLASS_KIT_(V560G_mutant)\",\n",
       "      \"Metric\": \"mcc\",\n",
       "      \"Score\": 0.1610626477\n",
       "    },\n",
       "    {\n",
       "      \"Test set\": \"test\",\n",
       "      \"Target label\": \"CLASS_KIT\",\n",
       "      \"Metric\": \"mcc\",\n",
       "      \"Score\": 0.3047997862\n",
       "    },\n",
       "    {\n",
       "      \"Test set\": \"test\",\n",
       "      \"Target label\": \"CLASS_KIT_(T6701_mutant)\",\n",
       "      \"Metric\": \"cohen_kappa\",\n",
       "      \"Score\": 0.6911242604\n",
       "    },\n",
       "    {\n",
       "      \"Test set\": \"test\",\n",
       "      \"Target label\": \"CLASS_KIT_(V560G_mutant)\",\n",
       "      \"Metric\": \"cohen_kappa\",\n",
       "      \"Score\": 0.1076923077\n",
       "    },\n",
       "    {\n",
       "      \"Test set\": \"test\",\n",
       "      \"Target label\": \"CLASS_KIT\",\n",
       "      \"Metric\": \"cohen_kappa\",\n",
       "      \"Score\": 0.2862351869\n",
       "    }\n",
       "  ]\n",
       "}"
      ]
     },
     "execution_count": 10,
     "metadata": {},
     "output_type": "execute_result"
    }
   ],
   "source": [
    "results"
   ]
  },
  {
   "cell_type": "code",
   "execution_count": 11,
   "id": "3a0e9daa-344e-4579-bf0b-0297794325dc",
   "metadata": {},
   "outputs": [],
   "source": [
    "with open(f\"T25_KIT_WT_T6701_pred.pickle\", 'wb') as handle:\n",
    "    pickle.dump(y_pred, handle)\n",
    "    \n",
    "with open(f\"T25_KIT_WT_T6701_prob.pickle\", 'wb') as handle:\n",
    "    pickle.dump(y_prob, handle)"
   ]
  },
  {
   "cell_type": "code",
   "execution_count": 12,
   "id": "98615b97-80a3-45e7-a9aa-d5dec0f45bac",
   "metadata": {},
   "outputs": [
    {
     "data": {
      "text/plain": [
       "{'CLASS_KIT_(T6701_mutant)': array([6.96396067e-05, 2.08252784e-04, 2.33169443e-06, 6.68561408e-04,\n",
       "        1.05360809e-03, 3.20995032e-06, 2.49468393e-04, 3.02728730e-03,\n",
       "        2.05598002e-04, 1.88392418e-06, 1.23246734e-03, 3.28950701e-06,\n",
       "        1.00831730e-06, 1.25245750e-03, 1.67796448e-05, 1.69976669e-01,\n",
       "        1.77409142e-04, 8.62322610e-03, 6.96576760e-04, 9.03549202e-06,\n",
       "        1.04587985e-04, 3.78654715e-04, 2.04230634e-06, 5.37012973e-01,\n",
       "        3.72483645e-06, 7.82994371e-05, 2.25479765e-03, 8.67387462e-05,\n",
       "        2.82153570e-06, 3.44877816e-05, 2.17191103e-02, 1.76800301e-06,\n",
       "        9.72919897e-01, 1.34195758e-04, 1.10722132e-03, 4.68791108e-04,\n",
       "        8.45449951e-05, 4.48476480e-05, 5.55316727e-04, 7.52486324e-05,\n",
       "        1.80977720e-05, 9.29763156e-01, 3.17391264e-05, 1.34195758e-04,\n",
       "        1.38665266e-01, 5.07643012e-06, 2.85607536e-05, 1.12695048e-04,\n",
       "        1.54400840e-06, 6.25081202e-06, 7.98468389e-06, 6.29474791e-01,\n",
       "        8.41895550e-06, 3.20284818e-04, 9.78049888e-05, 4.71183156e-01,\n",
       "        1.49255255e-05, 2.26784974e-06, 5.43792314e-05, 4.16560167e-05,\n",
       "        1.24575520e-05, 2.60606455e-04, 3.70514017e-05, 3.63329190e-05,\n",
       "        4.48435076e-05, 2.13051781e-04, 3.29005510e-01, 6.24963275e-06,\n",
       "        6.60864952e-05, 9.63823099e-01, 2.27584581e-06, 2.50667701e-05,\n",
       "        3.48603272e-04, 9.31046114e-01, 9.76948693e-01, 1.38304146e-03,\n",
       "        8.67024360e-05, 8.25822496e-01, 2.03739346e-05, 3.26872955e-04,\n",
       "        4.59550334e-03, 3.34238472e-05, 1.86272453e-05, 1.34824853e-02,\n",
       "        8.90656047e-04, 2.34765460e-02, 7.52554141e-05]),\n",
       " 'CLASS_KIT_(V560G_mutant)': array([5.01116855e-06, 1.09348975e-03, 1.39107410e-06, 3.43157114e-06,\n",
       "        2.60394365e-05, 1.82811508e-06, 9.02974639e-05, 1.24270893e-04,\n",
       "        1.07167858e-03, 6.22235075e-05, 2.79327190e-06, 9.55048203e-05,\n",
       "        2.27546091e-06, 6.33974889e-03, 7.72476218e-05, 1.86129222e-01,\n",
       "        1.38555242e-03, 7.70373380e-04, 1.74354932e-05, 3.46898140e-05,\n",
       "        1.30977708e-06, 1.36250408e-01, 7.71896129e-05, 6.80584839e-02,\n",
       "        8.06443053e-06, 7.35888276e-06, 1.48137093e-01, 1.31870944e-06,\n",
       "        2.63838187e-06, 4.18888728e-04, 1.94888196e-04, 8.53601148e-06,\n",
       "        6.14112508e-01, 4.36985189e-04, 3.51523584e-04, 2.23261201e-01,\n",
       "        2.66096722e-05, 3.31801722e-05, 2.90621635e-05, 1.74471805e-05,\n",
       "        1.48257131e-05, 1.29790497e-01, 1.24400101e-06, 4.36985189e-04,\n",
       "        5.63085308e-01, 2.08638961e-06, 1.75122977e-05, 6.59977847e-05,\n",
       "        2.02500524e-06, 3.37402663e-06, 1.51478914e-05, 3.63704416e-01,\n",
       "        2.50270575e-05, 6.22706992e-03, 1.26751657e-04, 1.78428826e-02,\n",
       "        1.56654094e-05, 5.45758830e-06, 7.33532277e-02, 1.71495284e-06,\n",
       "        7.47971747e-06, 1.72379969e-05, 5.37849884e-05, 3.98808299e-06,\n",
       "        3.31710615e-05, 2.88435125e-06, 9.32600857e-03, 3.87290626e-06,\n",
       "        8.31106632e-04, 3.40841680e-01, 2.58946805e-06, 2.94319072e-04,\n",
       "        5.48179136e-04, 1.92733412e-01, 1.63659938e-01, 7.69461188e-05,\n",
       "        4.10159298e-06, 4.74309015e-01, 2.04768745e-06, 1.39985841e-01,\n",
       "        2.22007841e-01, 3.22022624e-04, 1.04195918e-04, 1.00985887e-04,\n",
       "        1.04526938e-03, 6.68953671e-03, 2.11141600e-05]),\n",
       " 'CLASS_KIT': array([7.11697327e-01, 1.24764185e-02, 1.07657258e-04, 2.08872316e-03,\n",
       "        6.09900036e-02, 3.04125468e-02, 1.09620951e-04, 1.07245478e-02,\n",
       "        5.24537520e-02, 3.77393364e-03, 5.47726278e-03, 4.20775331e-04,\n",
       "        3.49628577e-02, 1.62407397e-03, 1.16862622e-01, 3.05040950e-01,\n",
       "        1.81389373e-01, 5.74610295e-04, 6.34080953e-02, 2.45078891e-04,\n",
       "        1.15206955e-02, 1.48564091e-02, 5.87410988e-04, 6.29770463e-01,\n",
       "        2.84486992e-01, 3.28321365e-05, 1.54810748e-01, 1.17977788e-03,\n",
       "        7.72161674e-01, 1.11734600e-04, 1.26792368e-01, 2.22618576e-04,\n",
       "        7.94304453e-01, 2.87691319e-01, 2.81095591e-01, 1.77550029e-02,\n",
       "        1.27071904e-03, 2.54720702e-02, 4.59383635e-01, 3.01338698e-02,\n",
       "        4.48037784e-04, 9.42696686e-01, 3.29209274e-03, 2.87691319e-01,\n",
       "        4.06562439e-01, 7.60574165e-01, 7.41555260e-02, 5.18975044e-04,\n",
       "        8.11316394e-01, 1.48319216e-04, 7.87906794e-02, 8.13980371e-01,\n",
       "        2.36032715e-04, 1.58909260e-03, 3.82336011e-04, 1.40555968e-01,\n",
       "        4.68263537e-04, 9.14353013e-01, 2.08937954e-01, 1.38133212e-03,\n",
       "        5.79511826e-03, 3.74874592e-02, 6.63547943e-03, 2.94630766e-02,\n",
       "        2.85067381e-02, 4.38137256e-03, 7.24876874e-01, 6.40189045e-01,\n",
       "        2.24200728e-03, 8.90498984e-01, 9.13895925e-01, 2.55317191e-03,\n",
       "        5.70641672e-01, 8.97359267e-01, 9.27336232e-01, 8.92827001e-01,\n",
       "        1.67593033e-03, 9.31310001e-01, 8.13695682e-02, 4.72946463e-02,\n",
       "        8.33448405e-03, 2.28922775e-01, 1.04653175e-01, 8.48847972e-03,\n",
       "        5.00876377e-01, 5.32991657e-01, 7.06413650e-02])}"
      ]
     },
     "execution_count": 12,
     "metadata": {},
     "output_type": "execute_result"
    }
   ],
   "source": [
    "y_prob"
   ]
  },
  {
   "cell_type": "code",
   "execution_count": 13,
   "id": "d32c9314-8704-4d9a-b481-d8cccf1a63bd",
   "metadata": {},
   "outputs": [
    {
     "data": {
      "text/plain": [
       "{'CLASS_KIT_(T6701_mutant)': array([0., 0., 0., 0., 0., 0., 0., 0., 0., 0., 0., 0., 0., 0., 0., 0., 0.,\n",
       "        0., 0., 0., 0., 0., 0., 1., 0., 0., 0., 0., 0., 0., 0., 0., 1., 0.,\n",
       "        0., 0., 0., 0., 0., 0., 0., 1., 0., 0., 0., 0., 0., 0., 0., 0., 0.,\n",
       "        1., 0., 0., 0., 0., 0., 0., 0., 0., 0., 0., 0., 0., 0., 0., 0., 0.,\n",
       "        0., 1., 0., 0., 0., 1., 1., 0., 0., 1., 0., 0., 0., 0., 0., 0., 0.,\n",
       "        0., 0.]),\n",
       " 'CLASS_KIT_(V560G_mutant)': array([0., 0., 0., 0., 0., 0., 0., 0., 0., 0., 0., 0., 0., 0., 0., 0., 0.,\n",
       "        0., 0., 0., 0., 0., 0., 0., 0., 0., 0., 0., 0., 0., 0., 0., 1., 0.,\n",
       "        0., 0., 0., 0., 0., 0., 0., 0., 0., 0., 1., 0., 0., 0., 0., 0., 0.,\n",
       "        0., 0., 0., 0., 0., 0., 0., 0., 0., 0., 0., 0., 0., 0., 0., 0., 0.,\n",
       "        0., 0., 0., 0., 0., 0., 0., 0., 0., 0., 0., 0., 0., 0., 0., 0., 0.,\n",
       "        0., 0.]),\n",
       " 'CLASS_KIT': array([1., 0., 0., 0., 0., 0., 0., 0., 0., 0., 0., 0., 0., 0., 0., 0., 0.,\n",
       "        0., 0., 0., 0., 0., 0., 1., 0., 0., 0., 0., 1., 0., 0., 0., 1., 0.,\n",
       "        0., 0., 0., 0., 0., 0., 0., 1., 0., 0., 0., 1., 0., 0., 1., 0., 0.,\n",
       "        1., 0., 0., 0., 0., 0., 1., 0., 0., 0., 0., 0., 0., 0., 0., 1., 1.,\n",
       "        0., 1., 1., 0., 1., 1., 1., 1., 0., 1., 0., 0., 0., 0., 0., 0., 1.,\n",
       "        1., 0.])}"
      ]
     },
     "execution_count": 13,
     "metadata": {},
     "output_type": "execute_result"
    }
   ],
   "source": [
    "y_pred"
   ]
  },
  {
   "cell_type": "code",
   "execution_count": null,
   "id": "2e6b6c78-d562-4398-98f1-e5b1df687ca6",
   "metadata": {},
   "outputs": [],
   "source": []
  }
 ],
 "metadata": {
  "kernelspec": {
   "display_name": "mtl",
   "language": "python",
   "name": "mtl"
  },
  "language_info": {
   "codemirror_mode": {
    "name": "ipython",
    "version": 3
   },
   "file_extension": ".py",
   "mimetype": "text/x-python",
   "name": "python",
   "nbconvert_exporter": "python",
   "pygments_lexer": "ipython3",
   "version": "3.11.9"
  },
  "widgets": {
   "application/vnd.jupyter.widget-state+json": {
    "state": {},
    "version_major": 2,
    "version_minor": 0
   }
  }
 },
 "nbformat": 4,
 "nbformat_minor": 5
}
