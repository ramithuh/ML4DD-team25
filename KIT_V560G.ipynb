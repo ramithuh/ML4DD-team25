{
 "cells": [
  {
   "cell_type": "code",
   "execution_count": 1,
   "id": "c8fbd07a-d88c-4b7c-bbeb-828b43d876c1",
   "metadata": {},
   "outputs": [
    {
     "name": "stderr",
     "output_type": "stream",
     "text": [
      "/home/jupyter-ramith/.conda/envs/mtl/lib/python3.11/site-packages/tqdm/auto.py:21: TqdmWarning: IProgress not found. Please update jupyter and ipywidgets. See https://ipywidgets.readthedocs.io/en/stable/user_install.html\n",
      "  from .autonotebook import tqdm as notebook_tqdm\n"
     ]
    }
   ],
   "source": [
    "import polaris as po\n",
    "import numpy as np\n",
    "from rdkit import Chem\n",
    "import pandas as pd\n",
    "\n",
    "import datamol as dm\n",
    "from molfeat.trans.pretrained import PretrainedDGLTransformer\n",
    "from molfeat.trans import MoleculeTransformer"
   ]
  },
  {
   "cell_type": "code",
   "execution_count": 15,
   "id": "ac4dda63-050c-4ad7-a054-40a179ac569f",
   "metadata": {},
   "outputs": [],
   "source": [
    "import random\n",
    "import pickle"
   ]
  },
  {
   "cell_type": "markdown",
   "id": "864d7224-4031-4f5b-8b12-0913c97bc0d9",
   "metadata": {},
   "source": [
    "### Load data and benchmark"
   ]
  },
  {
   "cell_type": "code",
   "execution_count": 3,
   "id": "7f334e91-c1b4-49da-a419-6e49a356d23c",
   "metadata": {},
   "outputs": [
    {
     "name": "stderr",
     "output_type": "stream",
     "text": [
      "\u001b[32m2024-06-21 12:58:20.042\u001b[0m | \u001b[1mINFO    \u001b[0m | \u001b[36mpolaris._artifact\u001b[0m:\u001b[36m_validate_version\u001b[0m:\u001b[36m66\u001b[0m - \u001b[1mThe version of Polaris that was used to create the artifact (0.0.0) is different from the currently installed version of Polaris (dev).\u001b[0m\n",
      "\u001b[32m2024-06-21 12:58:20.054\u001b[0m | \u001b[1mINFO    \u001b[0m | \u001b[36mpolaris._artifact\u001b[0m:\u001b[36m_validate_version\u001b[0m:\u001b[36m66\u001b[0m - \u001b[1mThe version of Polaris that was used to create the artifact (0.0.0) is different from the currently installed version of Polaris (dev).\u001b[0m\n"
     ]
    }
   ],
   "source": [
    "benchmark = po.load_benchmark(\"polaris/pkis1-kit-wt-mut-c-1\")\n",
    "train, test = benchmark.get_train_test_split(featurization_fn=dm.to_fp)"
   ]
  },
  {
   "cell_type": "code",
   "execution_count": 4,
   "id": "5d9db7a1-024b-49a9-b2fa-363c21225594",
   "metadata": {},
   "outputs": [],
   "source": [
    "### Get molecule info, instead of Fingerprint\n",
    "\n",
    "train_mol, test_mol = benchmark.get_train_test_split(featurization_fn=dm.to_mol)"
   ]
  },
  {
   "cell_type": "markdown",
   "id": "c17c06dc-d69d-42fc-a910-de1c22512c5d",
   "metadata": {},
   "source": [
    "### Convert to smiles strings"
   ]
  },
  {
   "cell_type": "code",
   "execution_count": 5,
   "id": "b3e161fe-1d21-4f10-a000-3ca601cac117",
   "metadata": {},
   "outputs": [],
   "source": [
    "smiles = []\n",
    "test_smiles = []\n",
    "\n",
    "for mol in train_mol.X:\n",
    "    smiles.append(Chem.MolToSmiles(mol))\n",
    "    \n",
    "for mol in test_mol.X:\n",
    "    test_smiles.append(Chem.MolToSmiles(mol))\n",
    "    \n",
    "smiles      = pd.Series(smiles)\n",
    "test_smiles = pd.Series(test_smiles)"
   ]
  },
  {
   "cell_type": "code",
   "execution_count": 6,
   "id": "4fafc0cf-c968-4965-ad16-865254d55fe5",
   "metadata": {},
   "outputs": [
    {
     "data": {
      "text/plain": [
       "0                     O=C1NC(=O)C(c2ccccc2)=C1Nc1ccccc1\n",
       "1      NS(=O)(=O)c1ccc(Nc2cc(-c3ccc(O)c(F)c3)n[nH]2)cc1\n",
       "2     CC1(C)CC(n2cnc(-c3ccc(F)cc3)c2-c2ccnc(N)n2)CC(...\n",
       "3     Nc1nccc(C#Cc2cncnc2Nc2ccc(OCc3cccc(F)c3)c(Cl)c...\n",
       "4                     COc1ccc(Nc2ncc(-c3ccccc3)o2)cc1OC\n",
       "                            ...                        \n",
       "82    O=C1NC(=O)C(c2cccc(Cl)c2)=C1Nc1ccc(Cl)c(C(=O)O)c1\n",
       "83            O=C(Nc1n[nH]c2nc(-c3ccco3)c(Br)cc12)C1CC1\n",
       "84    CCn1cc(-c2ccnc3[nH]ccc23)c(-c2cccc(NC(=O)Nc3cc...\n",
       "85    CCOc1ccc2c(-c3ccnc(Nc4cc(OC)cc(C(F)(F)F)c4)n3)...\n",
       "86                        c1ccc(Nc2ncc(-c3ccccc3)o2)cc1\n",
       "Length: 87, dtype: object"
      ]
     },
     "execution_count": 6,
     "metadata": {},
     "output_type": "execute_result"
    }
   ],
   "source": [
    "test_smiles"
   ]
  },
  {
   "cell_type": "markdown",
   "id": "05c2d73b-7116-4966-9cc6-8866a9e1e511",
   "metadata": {},
   "source": [
    "### Featurize"
   ]
  },
  {
   "cell_type": "code",
   "execution_count": 7,
   "id": "783935a5-e46b-40f6-9be7-73ee835d7b2d",
   "metadata": {},
   "outputs": [],
   "source": [
    "transformer = MoleculeTransformer(featurizer='mordred', dtype=float)\n",
    "\n",
    "X_features     = transformer(smiles)\n",
    "Xtest_features = transformer(test_smiles)"
   ]
  },
  {
   "cell_type": "code",
   "execution_count": 8,
   "id": "ca575bd1-0150-47ea-a13e-de7ad34ad5e0",
   "metadata": {},
   "outputs": [],
   "source": [
    "## There might be nan values, RF will handle these"
   ]
  },
  {
   "cell_type": "code",
   "execution_count": null,
   "id": "d3e2bb73-3150-40f6-9832-188cde02eba8",
   "metadata": {},
   "outputs": [],
   "source": []
  },
  {
   "cell_type": "code",
   "execution_count": 9,
   "id": "1e054400-1f5d-4dea-aec6-2c140171406b",
   "metadata": {},
   "outputs": [],
   "source": [
    "X_features_imputed     = X_features\n",
    "Xtest_features_imputed = Xtest_features"
   ]
  },
  {
   "cell_type": "code",
   "execution_count": null,
   "id": "d8a10a37-79c3-440b-a9db-5b87a726f0a2",
   "metadata": {},
   "outputs": [],
   "source": []
  },
  {
   "cell_type": "code",
   "execution_count": null,
   "id": "4e18b023-8366-40c1-8061-62bc64d6040a",
   "metadata": {},
   "outputs": [],
   "source": []
  },
  {
   "cell_type": "code",
   "execution_count": null,
   "id": "d8e807fa-0795-4bbb-936b-fd45926eda6e",
   "metadata": {},
   "outputs": [],
   "source": []
  },
  {
   "cell_type": "code",
   "execution_count": 10,
   "id": "e4570746-0a9e-44b2-b755-46178dc0788d",
   "metadata": {},
   "outputs": [],
   "source": [
    "from sklearn.ensemble import RandomForestClassifier\n",
    "\n",
    "models = {target: RandomForestClassifier(max_depth=None) for target in benchmark.target_cols}\n",
    "X = train.X\n",
    "\n",
    "for target, model in models.items():\n",
    "  y = train.y[target]\n",
    "  mask = ~np.isnan(y)\n",
    "  model.fit(X_features_imputed[mask], y[mask])\n",
    "\n",
    "y_prob = {target: model.predict_proba(Xtest_features_imputed)[:, 1] for target, model in models.items()}\n",
    "y_pred = {target: model.predict(Xtest_features_imputed) for target, model in models.items()}\n",
    "\n",
    "results = benchmark.evaluate(y_pred=y_pred, y_prob=y_prob)"
   ]
  },
  {
   "cell_type": "code",
   "execution_count": 11,
   "id": "05dde0c4-01fa-4aaf-96c9-d7c52be60045",
   "metadata": {},
   "outputs": [
    {
     "data": {
      "text/html": [
       "<table border=\"1\"><tr><th>name</th><td>None</td></tr><tr><th>description</th><td></td></tr><tr><th>tags</th><td></td></tr><tr><th>user_attributes</th><td></td></tr><tr><th>owner</th><td>None</td></tr><tr><th>polaris_version</th><td>dev</td></tr><tr><th>benchmark_name</th><td>pkis1-kit-wt-mut-c-1</td></tr><tr><th>benchmark_owner</th><td><table border=\"1\"><tr><th>slug</th><td>polaris</td></tr><tr><th>external_id</th><td>org_2gtoaJIVrgRqiIR8Qm5BnpFCbxu</td></tr><tr><th>type</th><td>organization</td></tr></table></td></tr><tr><th>github_url</th><td>None</td></tr><tr><th>paper_url</th><td>None</td></tr><tr><th>contributors</th><td>None</td></tr><tr><th>artifact_id</th><td>None</td></tr><tr><th>benchmark_artifact_id</th><td>polaris/pkis1-kit-wt-mut-c-1</td></tr><tr><th>results</th><td><table border=\"1\"><thead><tr><th>Test set</th><th>Target label</th><th>Metric</th><th>Score</th></tr></thead><tbody><tr><td>test</td><td>CLASS_KIT_(T6701_mutant)</td><td>accuracy</td><td>0.8390804598</td></tr><tr><td>test</td><td>CLASS_KIT_(V560G_mutant)</td><td>accuracy</td><td>0.8620689655</td></tr><tr><td>test</td><td>CLASS_KIT</td><td>accuracy</td><td>0.6206896552</td></tr><tr><td>test</td><td>CLASS_KIT_(T6701_mutant)</td><td>f1</td><td>0.0</td></tr><tr><td>test</td><td>CLASS_KIT_(V560G_mutant)</td><td>f1</td><td>0.0</td></tr><tr><td>test</td><td>CLASS_KIT</td><td>f1</td><td>0.0</td></tr><tr><td>test</td><td>CLASS_KIT_(T6701_mutant)</td><td>roc_auc</td><td>0.5807240705</td></tr><tr><td>test</td><td>CLASS_KIT_(V560G_mutant)</td><td>roc_auc</td><td>0.9005555556</td></tr><tr><td>test</td><td>CLASS_KIT</td><td>roc_auc</td><td>0.8821548822</td></tr><tr><td>test</td><td>CLASS_KIT_(T6701_mutant)</td><td>pr_auc</td><td>0.3409586009</td></tr><tr><td>test</td><td>CLASS_KIT_(V560G_mutant)</td><td>pr_auc</td><td>0.7571248196</td></tr><tr><td>test</td><td>CLASS_KIT</td><td>pr_auc</td><td>0.8178912856</td></tr><tr><td>test</td><td>CLASS_KIT_(T6701_mutant)</td><td>mcc</td><td>0.0</td></tr><tr><td>test</td><td>CLASS_KIT_(V560G_mutant)</td><td>mcc</td><td>0.0</td></tr><tr><td>test</td><td>CLASS_KIT</td><td>mcc</td><td>0.0</td></tr><tr><td>test</td><td>CLASS_KIT_(T6701_mutant)</td><td>cohen_kappa</td><td>0.0</td></tr><tr><td>test</td><td>CLASS_KIT_(V560G_mutant)</td><td>cohen_kappa</td><td>0.0</td></tr><tr><td>test</td><td>CLASS_KIT</td><td>cohen_kappa</td><td>0.0</td></tr></tbody></table></td></tr></table>"
      ],
      "text/plain": [
       "{\n",
       "  \"name\": null,\n",
       "  \"description\": \"\",\n",
       "  \"tags\": [],\n",
       "  \"user_attributes\": {},\n",
       "  \"owner\": null,\n",
       "  \"polaris_version\": \"dev\",\n",
       "  \"benchmark_name\": \"pkis1-kit-wt-mut-c-1\",\n",
       "  \"benchmark_owner\": {\n",
       "    \"slug\": \"polaris\",\n",
       "    \"external_id\": \"org_2gtoaJIVrgRqiIR8Qm5BnpFCbxu\",\n",
       "    \"type\": \"organization\"\n",
       "  },\n",
       "  \"github_url\": null,\n",
       "  \"paper_url\": null,\n",
       "  \"contributors\": null,\n",
       "  \"artifact_id\": null,\n",
       "  \"benchmark_artifact_id\": \"polaris/pkis1-kit-wt-mut-c-1\",\n",
       "  \"results\": [\n",
       "    {\n",
       "      \"Test set\": \"test\",\n",
       "      \"Target label\": \"CLASS_KIT_(T6701_mutant)\",\n",
       "      \"Metric\": \"accuracy\",\n",
       "      \"Score\": 0.8390804598\n",
       "    },\n",
       "    {\n",
       "      \"Test set\": \"test\",\n",
       "      \"Target label\": \"CLASS_KIT_(V560G_mutant)\",\n",
       "      \"Metric\": \"accuracy\",\n",
       "      \"Score\": 0.8620689655\n",
       "    },\n",
       "    {\n",
       "      \"Test set\": \"test\",\n",
       "      \"Target label\": \"CLASS_KIT\",\n",
       "      \"Metric\": \"accuracy\",\n",
       "      \"Score\": 0.6206896552\n",
       "    },\n",
       "    {\n",
       "      \"Test set\": \"test\",\n",
       "      \"Target label\": \"CLASS_KIT_(T6701_mutant)\",\n",
       "      \"Metric\": \"f1\",\n",
       "      \"Score\": 0.0\n",
       "    },\n",
       "    {\n",
       "      \"Test set\": \"test\",\n",
       "      \"Target label\": \"CLASS_KIT_(V560G_mutant)\",\n",
       "      \"Metric\": \"f1\",\n",
       "      \"Score\": 0.0\n",
       "    },\n",
       "    {\n",
       "      \"Test set\": \"test\",\n",
       "      \"Target label\": \"CLASS_KIT\",\n",
       "      \"Metric\": \"f1\",\n",
       "      \"Score\": 0.0\n",
       "    },\n",
       "    {\n",
       "      \"Test set\": \"test\",\n",
       "      \"Target label\": \"CLASS_KIT_(T6701_mutant)\",\n",
       "      \"Metric\": \"roc_auc\",\n",
       "      \"Score\": 0.5807240705\n",
       "    },\n",
       "    {\n",
       "      \"Test set\": \"test\",\n",
       "      \"Target label\": \"CLASS_KIT_(V560G_mutant)\",\n",
       "      \"Metric\": \"roc_auc\",\n",
       "      \"Score\": 0.9005555556\n",
       "    },\n",
       "    {\n",
       "      \"Test set\": \"test\",\n",
       "      \"Target label\": \"CLASS_KIT\",\n",
       "      \"Metric\": \"roc_auc\",\n",
       "      \"Score\": 0.8821548822\n",
       "    },\n",
       "    {\n",
       "      \"Test set\": \"test\",\n",
       "      \"Target label\": \"CLASS_KIT_(T6701_mutant)\",\n",
       "      \"Metric\": \"pr_auc\",\n",
       "      \"Score\": 0.3409586009\n",
       "    },\n",
       "    {\n",
       "      \"Test set\": \"test\",\n",
       "      \"Target label\": \"CLASS_KIT_(V560G_mutant)\",\n",
       "      \"Metric\": \"pr_auc\",\n",
       "      \"Score\": 0.7571248196\n",
       "    },\n",
       "    {\n",
       "      \"Test set\": \"test\",\n",
       "      \"Target label\": \"CLASS_KIT\",\n",
       "      \"Metric\": \"pr_auc\",\n",
       "      \"Score\": 0.8178912856\n",
       "    },\n",
       "    {\n",
       "      \"Test set\": \"test\",\n",
       "      \"Target label\": \"CLASS_KIT_(T6701_mutant)\",\n",
       "      \"Metric\": \"mcc\",\n",
       "      \"Score\": 0.0\n",
       "    },\n",
       "    {\n",
       "      \"Test set\": \"test\",\n",
       "      \"Target label\": \"CLASS_KIT_(V560G_mutant)\",\n",
       "      \"Metric\": \"mcc\",\n",
       "      \"Score\": 0.0\n",
       "    },\n",
       "    {\n",
       "      \"Test set\": \"test\",\n",
       "      \"Target label\": \"CLASS_KIT\",\n",
       "      \"Metric\": \"mcc\",\n",
       "      \"Score\": 0.0\n",
       "    },\n",
       "    {\n",
       "      \"Test set\": \"test\",\n",
       "      \"Target label\": \"CLASS_KIT_(T6701_mutant)\",\n",
       "      \"Metric\": \"cohen_kappa\",\n",
       "      \"Score\": 0.0\n",
       "    },\n",
       "    {\n",
       "      \"Test set\": \"test\",\n",
       "      \"Target label\": \"CLASS_KIT_(V560G_mutant)\",\n",
       "      \"Metric\": \"cohen_kappa\",\n",
       "      \"Score\": 0.0\n",
       "    },\n",
       "    {\n",
       "      \"Test set\": \"test\",\n",
       "      \"Target label\": \"CLASS_KIT\",\n",
       "      \"Metric\": \"cohen_kappa\",\n",
       "      \"Score\": 0.0\n",
       "    }\n",
       "  ]\n",
       "}"
      ]
     },
     "execution_count": 11,
     "metadata": {},
     "output_type": "execute_result"
    }
   ],
   "source": [
    "results"
   ]
  },
  {
   "cell_type": "code",
   "execution_count": 12,
   "id": "e8d34402-fcb8-4169-8afb-ae5773196a06",
   "metadata": {},
   "outputs": [
    {
     "data": {
      "text/plain": [
       "[0.3409586008876442, 0.7571248196248197, 0.8178912856378528]"
      ]
     },
     "execution_count": 12,
     "metadata": {},
     "output_type": "execute_result"
    }
   ],
   "source": [
    "str_names = [str(x) for x  in results.results['Metric']]\n",
    "\n",
    "idxs = [i for i, x in enumerate(str_names) if 'pr_auc' in x]\n",
    "sub_df = results.results.iloc[idxs]\n",
    "test_names = list(sub_df['Target label'])\n",
    "test_names = [x + f' ({tt})' for tt, x in enumerate(test_names)]\n",
    "test_values = list(sub_df['Score'])\n",
    "test_values"
   ]
  },
  {
   "cell_type": "code",
   "execution_count": 16,
   "id": "3a0e9daa-344e-4579-bf0b-0297794325dc",
   "metadata": {},
   "outputs": [],
   "source": [
    "with open(f\"T25_KIT_WT_V560G_pred.pickle\", 'wb') as handle:\n",
    "    pickle.dump(y_pred, handle)\n",
    "    \n",
    "with open(f\"T25_KIT_WT_V560G_prob.pickle\", 'wb') as handle:\n",
    "    pickle.dump(y_prob, handle)"
   ]
  },
  {
   "cell_type": "code",
   "execution_count": 13,
   "id": "98615b97-80a3-45e7-a9aa-d5dec0f45bac",
   "metadata": {},
   "outputs": [],
   "source": []
  },
  {
   "cell_type": "code",
   "execution_count": null,
   "id": "d32c9314-8704-4d9a-b481-d8cccf1a63bd",
   "metadata": {},
   "outputs": [],
   "source": []
  }
 ],
 "metadata": {
  "kernelspec": {
   "display_name": "mtl",
   "language": "python",
   "name": "mtl"
  },
  "language_info": {
   "codemirror_mode": {
    "name": "ipython",
    "version": 3
   },
   "file_extension": ".py",
   "mimetype": "text/x-python",
   "name": "python",
   "nbconvert_exporter": "python",
   "pygments_lexer": "ipython3",
   "version": "3.11.9"
  },
  "widgets": {
   "application/vnd.jupyter.widget-state+json": {
    "state": {},
    "version_major": 2,
    "version_minor": 0
   }
  }
 },
 "nbformat": 4,
 "nbformat_minor": 5
}
